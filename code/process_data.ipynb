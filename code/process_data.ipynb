{
 "cells": [
  {
   "cell_type": "code",
   "execution_count": null,
   "id": "5c55c740",
   "metadata": {},
   "outputs": [],
   "source": [
    "import matplotlib.pyplot as plt\n",
    "import pandas as pd"
   ]
  },
  {
   "cell_type": "code",
   "execution_count": null,
   "id": "2fc497fb",
   "metadata": {},
   "outputs": [],
   "source": [
    "# 加载数据集\n",
    "train_df = pd.read_csv(\"/kaggle/input/semeval/train.csv\")\n",
    "train_and_test_df = pd.read_csv(\"/kaggle/input/semeval2023/train_and_test.csv\")"
   ]
  },
  {
   "cell_type": "code",
   "execution_count": null,
   "id": "e5b1695f",
   "metadata": {},
   "outputs": [],
   "source": [
    "print(len(train_df))\n",
    "print(len(train_and_test_df))"
   ]
  },
  {
   "cell_type": "code",
   "execution_count": null,
   "id": "6581e17e",
   "metadata": {},
   "outputs": [],
   "source": [
    "# 绘制raw data的类别图像\n",
    "plt.hist(train_df.label, edgecolor = \"black\")\n",
    "plt.xlabel(\"Intimacy\", fontsize=13, fontweight='normal')\n",
    "plt.ylabel(\"Number of samples\", fontsize=13, fontweight='normal')\n",
    "plt.savefig(\"train.svg\", dpi=300,format=\"svg\")"
   ]
  },
  {
   "cell_type": "code",
   "execution_count": null,
   "id": "5913a7c0",
   "metadata": {},
   "outputs": [],
   "source": [
    "# 绘制raw data的language图像\n",
    "plt.hist(train_df.language, edgecolor = \"black\")\n",
    "plt.xlabel(\"Language\", fontsize=13, fontweight='normal')\n",
    "plt.ylabel(\"Number of samples\", fontsize=13, fontweight='normal')\n",
    "plt.savefig(\"train_language.svg\", dpi=300,format=\"svg\")"
   ]
  },
  {
   "cell_type": "code",
   "execution_count": null,
   "id": "7c525829",
   "metadata": {},
   "outputs": [],
   "source": [
    "# 绘制数据增强后的data类别图像\n",
    "plt.hist(train_and_test_df.label, edgecolor = \"black\")\n",
    "plt.xlabel(\"Intimacy\", fontsize=13, fontweight='normal')\n",
    "plt.ylabel(\"Number of samples\", fontsize=13, fontweight='normal')\n",
    "plt.savefig(\"train_and_test.svg\", dpi=300,format=\"svg\")"
   ]
  },
  {
   "cell_type": "code",
   "execution_count": null,
   "id": "8925f25c",
   "metadata": {},
   "outputs": [],
   "source": [
    "# 绘制数据增强后的data的language图像\n",
    "plt.hist(train_and_test_df.language, edgecolor = \"black\")\n",
    "plt.xticks(rotation=90)\n",
    "plt.xlabel(\"Language\", fontsize=13, fontweight='normal')\n",
    "plt.ylabel(\"Number of samples\", fontsize=13, fontweight='normal')\n",
    "plt.savefig(\"train_and_test_language.svg\", dpi=300,format=\"svg\", bbox_inches = 'tight')"
   ]
  }
 ],
 "metadata": {
  "kernelspec": {
   "display_name": "Python 3 (ipykernel)",
   "language": "python",
   "name": "python3"
  },
  "language_info": {
   "codemirror_mode": {
    "name": "ipython",
    "version": 3
   },
   "file_extension": ".py",
   "mimetype": "text/x-python",
   "name": "python",
   "nbconvert_exporter": "python",
   "pygments_lexer": "ipython3",
   "version": "3.9.13"
  }
 },
 "nbformat": 4,
 "nbformat_minor": 5
}
